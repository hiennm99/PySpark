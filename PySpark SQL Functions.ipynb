{
 "cells": [
  {
   "cell_type": "code",
   "execution_count": 2,
   "metadata": {},
   "outputs": [],
   "source": [
    "from pyspark.sql import SparkSession,SQLContext\n",
    "from pyspark.sql.functions import *"
   ]
  },
  {
   "cell_type": "code",
   "execution_count": 3,
   "metadata": {},
   "outputs": [],
   "source": [
    "# Init a Session\n",
    "spark=SparkSession.builder.appName('PySpark_SQL_Function').getOrCreate()"
   ]
  },
  {
   "cell_type": "code",
   "execution_count": 4,
   "metadata": {},
   "outputs": [
    {
     "name": "stdout",
     "output_type": "stream",
     "text": [
      "+---+----------+\n",
      "| id|     input|\n",
      "+---+----------+\n",
      "|  1|2020-02-01|\n",
      "|  2|2019-03-01|\n",
      "|  3|2021-03-01|\n",
      "+---+----------+\n",
      "\n"
     ]
    }
   ],
   "source": [
    "data=[[\"1\",\"2020-02-01\"],[\"2\",\"2019-03-01\"],[\"3\",\"2021-03-01\"]]\n",
    "df=spark.createDataFrame(data,[\"id\",\"input\"])\n",
    "df.show()"
   ]
  },
  {
   "cell_type": "code",
   "execution_count": 5,
   "metadata": {},
   "outputs": [
    {
     "name": "stdout",
     "output_type": "stream",
     "text": [
      "+------------+\n",
      "|current_date|\n",
      "+------------+\n",
      "|  2022-11-17|\n",
      "+------------+\n",
      "only showing top 1 row\n",
      "\n"
     ]
    }
   ],
   "source": [
    "# Get current date\n",
    "df.select(current_date().alias(\"current_date\")).show(1)"
   ]
  },
  {
   "cell_type": "code",
   "execution_count": 12,
   "metadata": {},
   "outputs": [
    {
     "name": "stdout",
     "output_type": "stream",
     "text": [
      "+----------+-----------+\n",
      "|     input|date_format|\n",
      "+----------+-----------+\n",
      "|2020-02-01| 01/02/2020|\n",
      "|2019-03-01| 01/03/2019|\n",
      "|2021-03-01| 01/03/2021|\n",
      "+----------+-----------+\n",
      "\n"
     ]
    }
   ],
   "source": [
    "# format date\n",
    "df.select(\"input\",date_format(\"input\",\"dd/MM/yyyy\").alias(\"date_format\")).show()"
   ]
  },
  {
   "cell_type": "code",
   "execution_count": 14,
   "metadata": {},
   "outputs": [
    {
     "name": "stdout",
     "output_type": "stream",
     "text": [
      "+----------+--------+\n",
      "|     input|datediff|\n",
      "+----------+--------+\n",
      "|2020-02-01|    1020|\n",
      "|2019-03-01|    1357|\n",
      "|2021-03-01|     626|\n",
      "+----------+--------+\n",
      "\n"
     ]
    }
   ],
   "source": [
    "# Date diff\n",
    "df.select(\"input\",datediff(current_date(),\"input\").alias(\"datediff\")).show()"
   ]
  },
  {
   "cell_type": "code",
   "execution_count": 16,
   "metadata": {},
   "outputs": [
    {
     "name": "stdout",
     "output_type": "stream",
     "text": [
      "+----------+-----------+\n",
      "|     input|  monthdiff|\n",
      "+----------+-----------+\n",
      "|2020-02-01|33.51612903|\n",
      "|2019-03-01|44.51612903|\n",
      "|2021-03-01|20.51612903|\n",
      "+----------+-----------+\n",
      "\n"
     ]
    }
   ],
   "source": [
    "# Month diff\n",
    "df.select(\"input\",months_between(current_date(),\"input\").alias(\"monthdiff\")).show()"
   ]
  },
  {
   "cell_type": "code",
   "execution_count": 6,
   "metadata": {},
   "outputs": [
    {
     "name": "stdout",
     "output_type": "stream",
     "text": [
      "+----------+-----------+----------+-----------+\n",
      "|     input|Month_Trunc|Month_Year|Month_Trunc|\n",
      "+----------+-----------+----------+-----------+\n",
      "|2020-02-01| 2020-02-01|2020-01-01| 2020-02-01|\n",
      "|2019-03-01| 2019-03-01|2019-01-01| 2019-03-01|\n",
      "|2021-03-01| 2021-03-01|2021-01-01| 2021-03-01|\n",
      "+----------+-----------+----------+-----------+\n",
      "\n"
     ]
    }
   ],
   "source": [
    "#trunc()\n",
    "df.select(\"input\", \n",
    "    trunc(\"input\",\"Month\").alias(\"Month_Trunc\"), \n",
    "    trunc(\"input\",\"Year\").alias(\"Month_Year\"), \n",
    "    trunc(\"input\",\"Month\").alias(\"Month_Trunc\")\n",
    "   ).show()"
   ]
  },
  {
   "cell_type": "code",
   "execution_count": 8,
   "metadata": {},
   "outputs": [
    {
     "name": "stdout",
     "output_type": "stream",
     "text": [
      "+----------+----------+----------+----------+----------+\n",
      "|     input|add_months|sub_months|  add_date|  sub_date|\n",
      "+----------+----------+----------+----------+----------+\n",
      "|2020-02-01|2020-05-01|2019-11-01|2020-02-05|2020-01-28|\n",
      "|2019-03-01|2019-06-01|2018-12-01|2019-03-05|2019-02-25|\n",
      "|2021-03-01|2021-06-01|2020-12-01|2021-03-05|2021-02-25|\n",
      "+----------+----------+----------+----------+----------+\n",
      "\n"
     ]
    }
   ],
   "source": [
    "# Add month, add date & sub date\n",
    "df.select(\"input\",add_months(\"input\",3).alias(\"add_months\"),\n",
    "                  add_months(\"input\",-3).alias(\"sub_months\"),\n",
    "                  date_add(\"input\",4).alias(\"add_date\"),\n",
    "                  date_sub(\"input\",4).alias(\"sub_date\") \n",
    "          ).show()"
   ]
  },
  {
   "cell_type": "code",
   "execution_count": 10,
   "metadata": {},
   "outputs": [
    {
     "name": "stdout",
     "output_type": "stream",
     "text": [
      "+----------+----+-----+----------+------------+\n",
      "|     input|year|month|  next_day|week_of_year|\n",
      "+----------+----+-----+----------+------------+\n",
      "|2020-02-01|2020|    2|2020-02-02|           5|\n",
      "|2019-03-01|2019|    3|2019-03-03|           9|\n",
      "|2021-03-01|2021|    3|2021-03-07|           9|\n",
      "+----------+----+-----+----------+------------+\n",
      "\n"
     ]
    }
   ],
   "source": [
    "# Year, month, next day, week of year\n",
    "df.select(\"input\",year(\"input\").alias(\"year\"),\n",
    "                  month(\"input\").alias(\"month\"),\n",
    "                  next_day(\"input\",\"Sunday\").alias(\"next_day\"), \n",
    "                  weekofyear(\"input\").alias(\"week_of_year\")\n",
    "                  ).show()"
   ]
  },
  {
   "cell_type": "code",
   "execution_count": 11,
   "metadata": {},
   "outputs": [
    {
     "name": "stdout",
     "output_type": "stream",
     "text": [
      "+----------+---------+----------+---------+\n",
      "|     input|dayofweek|dayofmonth|dayofyear|\n",
      "+----------+---------+----------+---------+\n",
      "|2020-02-01|        7|         1|       32|\n",
      "|2019-03-01|        6|         1|       60|\n",
      "|2021-03-01|        2|         1|       60|\n",
      "+----------+---------+----------+---------+\n",
      "\n"
     ]
    }
   ],
   "source": [
    "# Day of week, day of month, day of year\n",
    "df.select(\"input\",  \n",
    "     dayofweek(\"input\").alias(\"dayofweek\"), \n",
    "     dayofmonth(\"input\").alias(\"dayofmonth\"), \n",
    "     dayofyear(\"input\").alias(\"dayofyear\"), \n",
    "  ).show()"
   ]
  },
  {
   "cell_type": "code",
   "execution_count": 18,
   "metadata": {},
   "outputs": [],
   "source": [
    "data=[[\"1\",\"02-01-2020 11 01 19 06\"],[\"2\",\"03-01-2019 12 01 19 406\"],[\"3\",\"03-01-2021 12 01 19 406\"]]\n",
    "df2=spark.createDataFrame(data,[\"id\",\"input\"])"
   ]
  },
  {
   "cell_type": "code",
   "execution_count": 16,
   "metadata": {},
   "outputs": [
    {
     "name": "stdout",
     "output_type": "stream",
     "text": [
      "+--------------------+--------------------+\n",
      "|               input|   current_timestamp|\n",
      "+--------------------+--------------------+\n",
      "|02-01-2020 11 01 ...|2022-11-17 17:21:...|\n",
      "+--------------------+--------------------+\n",
      "only showing top 1 row\n",
      "\n"
     ]
    }
   ],
   "source": [
    "# Get current timestamp\n",
    "df2.select(\"input\",current_timestamp().alias(\"current_timestamp\")).show(1)"
   ]
  },
  {
   "cell_type": "code",
   "execution_count": 19,
   "metadata": {},
   "outputs": [
    {
     "name": "stdout",
     "output_type": "stream",
     "text": [
      "+--------------------+--------------------+\n",
      "|               input|        to_timestamp|\n",
      "+--------------------+--------------------+\n",
      "|02-01-2020 11 01 ...|2020-01-02 11:01:...|\n",
      "|03-01-2019 12 01 ...|2019-01-03 12:01:...|\n",
      "|03-01-2021 12 01 ...|2021-01-03 12:01:...|\n",
      "+--------------------+--------------------+\n",
      "\n"
     ]
    }
   ],
   "source": [
    "# To timestamp\n",
    "df2.select(\"input\",to_timestamp(\"input\",\"dd-MM-yyyy HH mm ss SSS\").alias(\"to_timestamp\")).show()"
   ]
  },
  {
   "cell_type": "code",
   "execution_count": 20,
   "metadata": {},
   "outputs": [
    {
     "name": "stdout",
     "output_type": "stream",
     "text": [
      "+-----------------------+----+------+------+\n",
      "|input                  |hour|minute|second|\n",
      "+-----------------------+----+------+------+\n",
      "|2020-02-01 11:01:19.06 |11  |1     |19    |\n",
      "|2019-03-01 12:01:19.406|12  |1     |19    |\n",
      "|2021-03-01 12:01:19.406|12  |1     |19    |\n",
      "+-----------------------+----+------+------+\n",
      "\n"
     ]
    }
   ],
   "source": [
    "#hour, minute,second\n",
    "data=[[\"1\",\"2020-02-01 11:01:19.06\"],[\"2\",\"2019-03-01 12:01:19.406\"],[\"3\",\"2021-03-01 12:01:19.406\"]]\n",
    "df3=spark.createDataFrame(data,[\"id\",\"input\"])\n",
    "\n",
    "df3.select(\"input\", \n",
    "    hour(\"input\").alias(\"hour\"), \n",
    "    minute(\"input\").alias(\"minute\"),\n",
    "    second(\"input\").alias(\"second\") \n",
    "  ).show(truncate=False)"
   ]
  }
 ],
 "metadata": {
  "kernelspec": {
   "display_name": "Python 3.10.7 64-bit",
   "language": "python",
   "name": "python3"
  },
  "language_info": {
   "codemirror_mode": {
    "name": "ipython",
    "version": 3
   },
   "file_extension": ".py",
   "mimetype": "text/x-python",
   "name": "python",
   "nbconvert_exporter": "python",
   "pygments_lexer": "ipython3",
   "version": "3.10.7"
  },
  "orig_nbformat": 4,
  "vscode": {
   "interpreter": {
    "hash": "31671a60cee805c34c73116577b485118ff3a75c458d3004d49632c19702ac60"
   }
  }
 },
 "nbformat": 4,
 "nbformat_minor": 2
}
