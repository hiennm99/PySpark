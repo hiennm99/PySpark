{
 "cells": [
  {
   "cell_type": "code",
   "execution_count": 1,
   "metadata": {},
   "outputs": [],
   "source": [
    "from pyspark.sql import SparkSession,SQLContext"
   ]
  },
  {
   "cell_type": "code",
   "execution_count": 2,
   "metadata": {},
   "outputs": [],
   "source": [
    "# Init a Session\n",
    "spark=SparkSession.builder.appName('PySpark_DataFrame').getOrCreate()"
   ]
  },
  {
   "cell_type": "code",
   "execution_count": 63,
   "metadata": {},
   "outputs": [],
   "source": [
    "# Create a DataFrame\n",
    "data = [('James','','Smith','1991-04-01','M',3000),\n",
    "  ('Michael','Rose','','2000-05-19','M',4000),\n",
    "  ('Robert','','Williams','1978-09-05','M',4000),\n",
    "  ('Maria','Anne','Jones','1967-12-01','F',5000),\n",
    "  ('Jen','Mary','Brown','1980-02-17','F',-1),\n",
    "  ('Robert','Nguyen','Minh','1999-11-05','M',10000)\n",
    "]\n",
    "columns = [\"firstname\",\"middlename\",\"lastname\",\"dob\",\"gender\",\"salary\"]\n",
    "\n",
    "df=spark.createDataFrame(data,columns)"
   ]
  },
  {
   "cell_type": "code",
   "execution_count": null,
   "metadata": {},
   "outputs": [],
   "source": [
    "# Set alias to column\n",
    "df.select(df.firstname.alias(\"first_name\")).show()\n"
   ]
  },
  {
   "cell_type": "code",
   "execution_count": 26,
   "metadata": {},
   "outputs": [],
   "source": [
    "# Sort the column\n",
    "df=df.sort(df.salary)"
   ]
  },
  {
   "cell_type": "code",
   "execution_count": 37,
   "metadata": {},
   "outputs": [],
   "source": [
    "# Change DataType\n",
    "df.salary.cast(\"Float\")\n",
    "df.salary.astype(\"Float\")"
   ]
  },
  {
   "cell_type": "code",
   "execution_count": 44,
   "metadata": {},
   "outputs": [
    {
     "name": "stdout",
     "output_type": "stream",
     "text": [
      "+---------+----------+--------+----------+------+------+\n",
      "|firstname|middlename|lastname|       dob|gender|salary|\n",
      "+---------+----------+--------+----------+------+------+\n",
      "|    James|          |   Smith|1991-04-01|     M|  3000|\n",
      "|  Michael|      Rose|        |2000-05-19|     M|  4000|\n",
      "|   Robert|          |Williams|1978-09-05|     M|  4000|\n",
      "+---------+----------+--------+----------+------+------+\n",
      "\n"
     ]
    }
   ],
   "source": [
    "# Check value beetween lower and upper bound\n",
    "df.filter(df.salary.between(3000,4000)).show()"
   ]
  },
  {
   "cell_type": "code",
   "execution_count": 45,
   "metadata": {},
   "outputs": [
    {
     "name": "stdout",
     "output_type": "stream",
     "text": [
      "+---------+----------+--------+----------+------+------+\n",
      "|firstname|middlename|lastname|       dob|gender|salary|\n",
      "+---------+----------+--------+----------+------+------+\n",
      "|   Robert|          |Williams|1978-09-05|     M|  4000|\n",
      "+---------+----------+--------+----------+------+------+\n",
      "\n"
     ]
    }
   ],
   "source": [
    "# Check contain\n",
    "df.filter(df.firstname.contains(\"Robert\")).show()"
   ]
  },
  {
   "cell_type": "code",
   "execution_count": 48,
   "metadata": {},
   "outputs": [
    {
     "name": "stdout",
     "output_type": "stream",
     "text": [
      "+---------+----------+--------+----------+------+------+\n",
      "|firstname|middlename|lastname|       dob|gender|salary|\n",
      "+---------+----------+--------+----------+------+------+\n",
      "|  Michael|      Rose|        |2000-05-19|     M|  4000|\n",
      "|    Maria|      Anne|   Jones|1967-12-01|     F|  5000|\n",
      "+---------+----------+--------+----------+------+------+\n",
      "\n"
     ]
    }
   ],
   "source": [
    "# Check start and end with value\n",
    "df.filter(df.firstname.startswith(\"M\")).show()\n",
    "df.filter(df.firstname.endswith(\"M\")).show()"
   ]
  },
  {
   "cell_type": "code",
   "execution_count": 50,
   "metadata": {},
   "outputs": [
    {
     "name": "stdout",
     "output_type": "stream",
     "text": [
      "+---------+----------+--------+----------+------+------+\n",
      "|firstname|middlename|lastname|       dob|gender|salary|\n",
      "+---------+----------+--------+----------+------+------+\n",
      "|    James|          |   Smith|1991-04-01|     M|  3000|\n",
      "|  Michael|      Rose|        |2000-05-19|     M|  4000|\n",
      "|   Robert|          |Williams|1978-09-05|     M|  4000|\n",
      "|    Maria|      Anne|   Jones|1967-12-01|     F|  5000|\n",
      "|      Jen|      Mary|   Brown|1980-02-17|     F|    -1|\n",
      "+---------+----------+--------+----------+------+------+\n",
      "\n",
      "+---------+----------+--------+---+------+------+\n",
      "|firstname|middlename|lastname|dob|gender|salary|\n",
      "+---------+----------+--------+---+------+------+\n",
      "+---------+----------+--------+---+------+------+\n",
      "\n"
     ]
    }
   ],
   "source": [
    "# Check Null or not Null values\n",
    "df.filter(df.firstname.isNotNull()).show()\n",
    "df.filter(df.firstname.isNull()).show()"
   ]
  },
  {
   "cell_type": "code",
   "execution_count": 51,
   "metadata": {},
   "outputs": [
    {
     "name": "stdout",
     "output_type": "stream",
     "text": [
      "+---------+----------+--------+----------+------+------+\n",
      "|firstname|middlename|lastname|       dob|gender|salary|\n",
      "+---------+----------+--------+----------+------+------+\n",
      "|    Maria|      Anne|   Jones|1967-12-01|     F|  5000|\n",
      "+---------+----------+--------+----------+------+------+\n",
      "\n"
     ]
    }
   ],
   "source": [
    "# Similar to SQL LIKE expression\n",
    "df.filter(df.firstname.like(\"%ria\")).show()"
   ]
  },
  {
   "cell_type": "code",
   "execution_count": null,
   "metadata": {},
   "outputs": [],
   "source": [
    "# Returns a Column after getting sub string from the Column\n",
    "df.select(df.firstname.substr(1,2).alias(\"substr\")).show()"
   ]
  },
  {
   "cell_type": "code",
   "execution_count": 57,
   "metadata": {},
   "outputs": [
    {
     "name": "stdout",
     "output_type": "stream",
     "text": [
      "+---------+--------+------+----------+\n",
      "|firstname|lastname|gender|new_gender|\n",
      "+---------+--------+------+----------+\n",
      "|    James|   Smith|     M|      Male|\n",
      "|  Michael|        |     M|      Male|\n",
      "|   Robert|Williams|     M|      Male|\n",
      "|    Maria|   Jones|     F|    Female|\n",
      "|      Jen|   Brown|     F|    Female|\n",
      "+---------+--------+------+----------+\n",
      "\n"
     ]
    }
   ],
   "source": [
    "# When and Otherwise\n",
    "from pyspark.sql.functions import when \n",
    "\n",
    "df.select(df.firstname,df.lastname,df.gender, when(df.gender == \"M\",\"Male\") \\\n",
    "                                   .when(df.gender == \"F\",\"Female\") \\\n",
    "                                   .when(df.gender == None,\"\") \\\n",
    "                                   .otherwise(df.gender).alias(\"new_gender\") \\\n",
    "         ).show()"
   ]
  },
  {
   "cell_type": "code",
   "execution_count": 59,
   "metadata": {},
   "outputs": [
    {
     "name": "stdout",
     "output_type": "stream",
     "text": [
      "+---------+----------+--------+----------+------+------+\n",
      "|firstname|middlename|lastname|       dob|gender|salary|\n",
      "+---------+----------+--------+----------+------+------+\n",
      "|    James|          |   Smith|1991-04-01|     M|4500.0|\n",
      "|  Michael|      Rose|        |2000-05-19|     M|6000.0|\n",
      "|   Robert|          |Williams|1978-09-05|     M|6000.0|\n",
      "|    Maria|      Anne|   Jones|1967-12-01|     F|7500.0|\n",
      "|      Jen|      Mary|   Brown|1980-02-17|     F|  -1.5|\n",
      "+---------+----------+--------+----------+------+------+\n",
      "\n"
     ]
    }
   ],
   "source": [
    "# Update Values of an Existing Column\n",
    "df.withColumn(\"salary\",df.salary*1.5).show()"
   ]
  },
  {
   "cell_type": "code",
   "execution_count": 60,
   "metadata": {},
   "outputs": [
    {
     "name": "stdout",
     "output_type": "stream",
     "text": [
      "+---------+----------+--------+----------+------+------+---------+\n",
      "|firstname|middlename|lastname|       dob|gender|salary|new_salry|\n",
      "+---------+----------+--------+----------+------+------+---------+\n",
      "|    James|          |   Smith|1991-04-01|     M|  3000|     6000|\n",
      "|  Michael|      Rose|        |2000-05-19|     M|  4000|     8000|\n",
      "|   Robert|          |Williams|1978-09-05|     M|  4000|     8000|\n",
      "|    Maria|      Anne|   Jones|1967-12-01|     F|  5000|    10000|\n",
      "|      Jen|      Mary|   Brown|1980-02-17|     F|    -1|       -2|\n",
      "+---------+----------+--------+----------+------+------+---------+\n",
      "\n"
     ]
    }
   ],
   "source": [
    "# Create a Column from an Existing Column\n",
    "df.withColumn(\"new_salry\",df.salary*2).show()"
   ]
  },
  {
   "cell_type": "code",
   "execution_count": 62,
   "metadata": {},
   "outputs": [
    {
     "name": "stdout",
     "output_type": "stream",
     "text": [
      "+---------+----------+--------+----------+---+------+\n",
      "|firstname|middlename|lastname|       dob|sex|salary|\n",
      "+---------+----------+--------+----------+---+------+\n",
      "|    James|          |   Smith|1991-04-01|  M|  3000|\n",
      "|  Michael|      Rose|        |2000-05-19|  M|  4000|\n",
      "|   Robert|          |Williams|1978-09-05|  M|  4000|\n",
      "|    Maria|      Anne|   Jones|1967-12-01|  F|  5000|\n",
      "|      Jen|      Mary|   Brown|1980-02-17|  F|    -1|\n",
      "+---------+----------+--------+----------+---+------+\n",
      "\n"
     ]
    }
   ],
   "source": [
    "# Rename Column name\n",
    "df.withColumnRenamed(\"gender\",\"sex\").show()"
   ]
  },
  {
   "cell_type": "code",
   "execution_count": 67,
   "metadata": {},
   "outputs": [
    {
     "name": "stdout",
     "output_type": "stream",
     "text": [
      "+---------+----------+--------+----------+------+------+\n",
      "|firstname|middlename|lastname|       dob|gender|salary|\n",
      "+---------+----------+--------+----------+------+------+\n",
      "|  Michael|      Rose|        |2000-05-19|     M|  4000|\n",
      "|   Robert|          |Williams|1978-09-05|     M|  4000|\n",
      "|    James|          |   Smith|1991-04-01|     M|  3000|\n",
      "|   Robert|    Nguyen|    Minh|1999-11-05|     M| 10000|\n",
      "|    Maria|      Anne|   Jones|1967-12-01|     F|  5000|\n",
      "|      Jen|      Mary|   Brown|1980-02-17|     F|    -1|\n",
      "+---------+----------+--------+----------+------+------+\n",
      "\n"
     ]
    }
   ],
   "source": [
    "# Drop Duplicates\n",
    "df.dropDuplicates().show()"
   ]
  },
  {
   "cell_type": "code",
   "execution_count": 73,
   "metadata": {},
   "outputs": [
    {
     "name": "stdout",
     "output_type": "stream",
     "text": [
      "+------+----------+----------+----------+\n",
      "|gender|sum_salary|avg_salary|max_salary|\n",
      "+------+----------+----------+----------+\n",
      "|     F|      4999|    2499.5|      5000|\n",
      "|     M|     21000|    5250.0|     10000|\n",
      "+------+----------+----------+----------+\n",
      "\n"
     ]
    }
   ],
   "source": [
    "#Running more aggregates at a time\n",
    "from pyspark.sql.functions import sum,avg,max\n",
    "df.groupBy(\"gender\").agg(sum(\"salary\").alias(\"sum_salary\"), \\\n",
    "                         avg(\"salary\").alias(\"avg_salary\"), \\\n",
    "                         max(\"salary\").alias(\"max_salary\")       \n",
    "                         ) \\\n",
    "                    .show()"
   ]
  },
  {
   "cell_type": "code",
   "execution_count": 76,
   "metadata": {},
   "outputs": [],
   "source": [
    "# Create a DataFrame\n",
    "data = [('James','','Smith','1991-04-01','M',3000,'NY'),\n",
    "  ('Michael','Rose','','2000-05-19','M',4000,'WA'),\n",
    "  ('Robert','','Williams','1978-09-05','M',4000,'NY'),\n",
    "  ('Maria','Anne','Jones','1967-12-01','F',5000,'LA'),\n",
    "  ('Jen','Mary','Brown','1980-02-17','F',-1,'FL'),\n",
    "  ('Robert','Nguyen','Minh','1999-11-05','M',10000,'AL')\n",
    "]\n",
    "columns = [\"firstname\",\"middlename\",\"lastname\",\"dob\",\"gender\",\"salary\",\"address\"]\n",
    "\n",
    "df=spark.createDataFrame(data,columns)\n",
    "\n",
    "data2 = [(\"'NY'\",\"New York\"), \\\n",
    "    (\"WA\",\" West Arizona\"), \\\n",
    "    (\"FL\",\"Florida\"), \\\n",
    "    (\"AL\",\"Alaska\") \\\n",
    "  ]\n",
    "colums2 = [\"name\",\"fullname\"]\n",
    "df2=spark.createDataFrame(data2,colums2)"
   ]
  },
  {
   "cell_type": "code",
   "execution_count": 81,
   "metadata": {},
   "outputs": [
    {
     "name": "stdout",
     "output_type": "stream",
     "text": [
      "+---------+----------+--------+----------+------+------+-------+-------------+\n",
      "|firstname|middlename|lastname|       dob|gender|salary|address|     fullname|\n",
      "+---------+----------+--------+----------+------+------+-------+-------------+\n",
      "|    Maria|      Anne|   Jones|1967-12-01|     F|  5000|     LA|         null|\n",
      "|  Michael|      Rose|        |2000-05-19|     M|  4000|     WA| West Arizona|\n",
      "|   Robert|    Nguyen|    Minh|1999-11-05|     M| 10000|     AL|       Alaska|\n",
      "|    James|          |   Smith|1991-04-01|     M|  3000|     NY|         null|\n",
      "|   Robert|          |Williams|1978-09-05|     M|  4000|     NY|         null|\n",
      "|      Jen|      Mary|   Brown|1980-02-17|     F|    -1|     FL|      Florida|\n",
      "+---------+----------+--------+----------+------+------+-------+-------------+\n",
      "\n"
     ]
    }
   ],
   "source": [
    "# Join DataFrames\n",
    "df.join(df2,df.address==df2.name,\"left\").select([\"firstname\",\"middlename\",\"lastname\",\"dob\",\"gender\",\"salary\",\"address\",\"fullname\"]).show()"
   ]
  },
  {
   "cell_type": "code",
   "execution_count": 96,
   "metadata": {},
   "outputs": [
    {
     "name": "stdout",
     "output_type": "stream",
     "text": [
      "+---------+----------+--------+----------+------+------+-------+--------+\n",
      "|firstname|middlename|lastname|       dob|gender|salary|address|    test|\n",
      "+---------+----------+--------+----------+------+------+-------+--------+\n",
      "|    James|          |   Smith|1991-04-01|     M|  3000|     NY|   SMITH|\n",
      "|  Michael|      Rose|        |2000-05-19|     M|  4000|     WA|        |\n",
      "|   Robert|          |Williams|1978-09-05|     M|  4000|     NY|WILLIAMS|\n",
      "|    Maria|      Anne|   Jones|1967-12-01|     F|  5000|     LA|   JONES|\n",
      "|      Jen|      Mary|   Brown|1980-02-17|     F|    -1|     FL|   BROWN|\n",
      "|   Robert|    Nguyen|    Minh|1999-11-05|     M| 10000|     AL|    MINH|\n",
      "+---------+----------+--------+----------+------+------+-------+--------+\n",
      "\n"
     ]
    }
   ],
   "source": [
    "# UDF\n",
    "from pyspark.sql.functions import udf\n",
    "\n",
    "def nhan(str):\n",
    "    return str.upper()\n",
    "\n",
    "convertUDF=udf(lambda a:nhan(a))\n",
    "\n",
    "df.withColumn(\"test\",convertUDF(\"lastname\")).show()"
   ]
  },
  {
   "cell_type": "code",
   "execution_count": 97,
   "metadata": {},
   "outputs": [
    {
     "name": "stdout",
     "output_type": "stream",
     "text": [
      "+---------+----------+--------+----------+------+------+-------+\n",
      "|firstname|middlename|lastname|       dob|gender|salary|address|\n",
      "+---------+----------+--------+----------+------+------+-------+\n",
      "|    James|          |   Smith|1991-04-01|     M|  3000|     NY|\n",
      "|  Michael|      Rose|        |2000-05-19|     M|  4000|     WA|\n",
      "|   Robert|          |Williams|1978-09-05|     M|  4000|     NY|\n",
      "|    Maria|      Anne|   Jones|1967-12-01|     F|  5000|     LA|\n",
      "|      Jen|      Mary|   Brown|1980-02-17|     F|    -1|     FL|\n",
      "|   Robert|    Nguyen|    Minh|1999-11-05|     M| 10000|     AL|\n",
      "+---------+----------+--------+----------+------+------+-------+\n",
      "\n"
     ]
    }
   ],
   "source": []
  }
 ],
 "metadata": {
  "kernelspec": {
   "display_name": "Python 3.10.7 64-bit",
   "language": "python",
   "name": "python3"
  },
  "language_info": {
   "codemirror_mode": {
    "name": "ipython",
    "version": 3
   },
   "file_extension": ".py",
   "mimetype": "text/x-python",
   "name": "python",
   "nbconvert_exporter": "python",
   "pygments_lexer": "ipython3",
   "version": "3.10.7"
  },
  "orig_nbformat": 4,
  "vscode": {
   "interpreter": {
    "hash": "31671a60cee805c34c73116577b485118ff3a75c458d3004d49632c19702ac60"
   }
  }
 },
 "nbformat": 4,
 "nbformat_minor": 2
}
